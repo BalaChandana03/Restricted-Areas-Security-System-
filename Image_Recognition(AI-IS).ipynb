{
 "cells": [
  {
   "cell_type": "code",
   "execution_count": 2,
   "id": "bd2eda4a",
   "metadata": {},
   "outputs": [
    {
     "name": "stdout",
     "output_type": "stream",
     "text": [
      "Requirement already satisfied: ipywidgets in c:\\users\\vamsh\\anaconda3\\lib\\site-packages (8.0.4)\n",
      "Requirement already satisfied: ipykernel>=4.5.1 in c:\\users\\vamsh\\anaconda3\\lib\\site-packages (from ipywidgets) (6.19.2)\n",
      "Requirement already satisfied: ipython>=6.1.0 in c:\\users\\vamsh\\anaconda3\\lib\\site-packages (from ipywidgets) (8.12.0)\n",
      "Requirement already satisfied: traitlets>=4.3.1 in c:\\users\\vamsh\\anaconda3\\lib\\site-packages (from ipywidgets) (5.7.1)\n",
      "Requirement already satisfied: widgetsnbextension~=4.0 in c:\\users\\vamsh\\anaconda3\\lib\\site-packages (from ipywidgets) (4.0.5)\n",
      "Requirement already satisfied: jupyterlab-widgets~=3.0 in c:\\users\\vamsh\\anaconda3\\lib\\site-packages (from ipywidgets) (3.0.5)\n",
      "Requirement already satisfied: comm>=0.1.1 in c:\\users\\vamsh\\anaconda3\\lib\\site-packages (from ipykernel>=4.5.1->ipywidgets) (0.1.2)\n",
      "Requirement already satisfied: debugpy>=1.0 in c:\\users\\vamsh\\anaconda3\\lib\\site-packages (from ipykernel>=4.5.1->ipywidgets) (1.5.1)\n",
      "Requirement already satisfied: jupyter-client>=6.1.12 in c:\\users\\vamsh\\anaconda3\\lib\\site-packages (from ipykernel>=4.5.1->ipywidgets) (8.1.0)\n",
      "Requirement already satisfied: matplotlib-inline>=0.1 in c:\\users\\vamsh\\anaconda3\\lib\\site-packages (from ipykernel>=4.5.1->ipywidgets) (0.1.6)\n",
      "Requirement already satisfied: nest-asyncio in c:\\users\\vamsh\\anaconda3\\lib\\site-packages (from ipykernel>=4.5.1->ipywidgets) (1.5.6)\n",
      "Requirement already satisfied: packaging in c:\\users\\vamsh\\anaconda3\\lib\\site-packages (from ipykernel>=4.5.1->ipywidgets) (23.0)\n",
      "Requirement already satisfied: psutil in c:\\users\\vamsh\\anaconda3\\lib\\site-packages (from ipykernel>=4.5.1->ipywidgets) (5.9.0)\n",
      "Requirement already satisfied: pyzmq>=17 in c:\\users\\vamsh\\anaconda3\\lib\\site-packages (from ipykernel>=4.5.1->ipywidgets) (25.1.0)\n",
      "Requirement already satisfied: tornado>=6.1 in c:\\users\\vamsh\\anaconda3\\lib\\site-packages (from ipykernel>=4.5.1->ipywidgets) (6.2)\n",
      "Requirement already satisfied: backcall in c:\\users\\vamsh\\anaconda3\\lib\\site-packages (from ipython>=6.1.0->ipywidgets) (0.2.0)\n",
      "Requirement already satisfied: decorator in c:\\users\\vamsh\\anaconda3\\lib\\site-packages (from ipython>=6.1.0->ipywidgets) (5.1.1)\n",
      "Requirement already satisfied: jedi>=0.16 in c:\\users\\vamsh\\anaconda3\\lib\\site-packages (from ipython>=6.1.0->ipywidgets) (0.18.1)\n",
      "Requirement already satisfied: pickleshare in c:\\users\\vamsh\\anaconda3\\lib\\site-packages (from ipython>=6.1.0->ipywidgets) (0.7.5)\n",
      "Requirement already satisfied: prompt-toolkit!=3.0.37,<3.1.0,>=3.0.30 in c:\\users\\vamsh\\anaconda3\\lib\\site-packages (from ipython>=6.1.0->ipywidgets) (3.0.36)\n",
      "Requirement already satisfied: pygments>=2.4.0 in c:\\users\\vamsh\\anaconda3\\lib\\site-packages (from ipython>=6.1.0->ipywidgets) (2.15.1)\n",
      "Requirement already satisfied: stack-data in c:\\users\\vamsh\\anaconda3\\lib\\site-packages (from ipython>=6.1.0->ipywidgets) (0.2.0)\n",
      "Requirement already satisfied: colorama in c:\\users\\vamsh\\anaconda3\\lib\\site-packages (from ipython>=6.1.0->ipywidgets) (0.4.6)\n",
      "Requirement already satisfied: parso<0.9.0,>=0.8.0 in c:\\users\\vamsh\\anaconda3\\lib\\site-packages (from jedi>=0.16->ipython>=6.1.0->ipywidgets) (0.8.3)\n",
      "Requirement already satisfied: jupyter-core!=5.0.*,>=4.12 in c:\\users\\vamsh\\anaconda3\\lib\\site-packages (from jupyter-client>=6.1.12->ipykernel>=4.5.1->ipywidgets) (5.3.0)\n",
      "Requirement already satisfied: python-dateutil>=2.8.2 in c:\\users\\vamsh\\anaconda3\\lib\\site-packages (from jupyter-client>=6.1.12->ipykernel>=4.5.1->ipywidgets) (2.8.2)\n",
      "Requirement already satisfied: wcwidth in c:\\users\\vamsh\\anaconda3\\lib\\site-packages (from prompt-toolkit!=3.0.37,<3.1.0,>=3.0.30->ipython>=6.1.0->ipywidgets) (0.2.5)\n",
      "Requirement already satisfied: executing in c:\\users\\vamsh\\anaconda3\\lib\\site-packages (from stack-data->ipython>=6.1.0->ipywidgets) (0.8.3)\n",
      "Requirement already satisfied: asttokens in c:\\users\\vamsh\\anaconda3\\lib\\site-packages (from stack-data->ipython>=6.1.0->ipywidgets) (2.0.5)\n",
      "Requirement already satisfied: pure-eval in c:\\users\\vamsh\\anaconda3\\lib\\site-packages (from stack-data->ipython>=6.1.0->ipywidgets) (0.2.2)\n",
      "Requirement already satisfied: platformdirs>=2.5 in c:\\users\\vamsh\\anaconda3\\lib\\site-packages (from jupyter-core!=5.0.*,>=4.12->jupyter-client>=6.1.12->ipykernel>=4.5.1->ipywidgets) (2.5.2)\n",
      "Requirement already satisfied: pywin32>=300 in c:\\users\\vamsh\\anaconda3\\lib\\site-packages (from jupyter-core!=5.0.*,>=4.12->jupyter-client>=6.1.12->ipykernel>=4.5.1->ipywidgets) (305.1)\n",
      "Requirement already satisfied: six>=1.5 in c:\\users\\vamsh\\anaconda3\\lib\\site-packages (from python-dateutil>=2.8.2->jupyter-client>=6.1.12->ipykernel>=4.5.1->ipywidgets) (1.16.0)\n"
     ]
    }
   ],
   "source": [
    "!pip install ipywidgets"
   ]
  },
  {
   "cell_type": "code",
   "execution_count": 21,
   "id": "9cc789d6",
   "metadata": {},
   "outputs": [],
   "source": [
    "from ipywidgets import Image, Button, HBox\n",
    "from IPython.display import display\n",
    "import cv2\n",
    "import time\n",
    "import face_recognition\n"
   ]
  },
  {
   "cell_type": "code",
   "execution_count": 26,
   "id": "0e7a89ee",
   "metadata": {},
   "outputs": [],
   "source": [
    "def capture():\n",
    "    # Create an Image widget for displaying the webcam feed\n",
    "    image_widget = Image()\n",
    "\n",
    "    # Display the widget to start the webcam feed\n",
    "    display(image_widget)\n",
    "\n",
    "    # Open a connection to the camera\n",
    "    cap = cv2.VideoCapture(0)\n",
    "\n",
    "    if not cap.isOpened():\n",
    "        print(\"Unable to access the camera.\")\n",
    "    else:\n",
    "        # Capture the webcam feed for 5 seconds\n",
    "        start_time = time.time()\n",
    "        while time.time() - start_time < 5:\n",
    "            ret, frame = cap.read()\n",
    "            if not ret:\n",
    "                print(\"Unable to capture a photo.\")\n",
    "                break\n",
    "\n",
    "            # Display the current frame\n",
    "            image_widget.value = cv2.imencode(\".jpg\", frame)[1].tobytes()\n",
    "\n",
    "        # Save the captured photo as \"captured_photo.jpg\"\n",
    "        cv2.imwrite(\"C:\\\\Users\\\\vamsh\\\\OneDrive\\\\Pictures\\\\project\\\\captured_image.jpg\", frame)\n",
    "    \n",
    "\n",
    "        # Release the camera\n",
    "        cap.release()\n",
    "\n",
    "    # Close the image display\n",
    "    image_widget.close()\n",
    "    \n",
    "    \n"
   ]
  },
  {
   "cell_type": "code",
   "execution_count": 39,
   "id": "5cc97962",
   "metadata": {},
   "outputs": [],
   "source": [
    "def compare_faces(image_path1, image_path2):\n",
    "    # Load and encode the images\n",
    "    image1 = face_recognition.load_image_file(image_path1)\n",
    "    image2 = face_recognition.load_image_file(image_path2)\n",
    "\n",
    "    face_encodings1 = face_recognition.face_encodings(image1)\n",
    "    face_encodings2 = face_recognition.face_encodings(image2)\n",
    "\n",
    "    if not face_encodings1 or not face_encodings2:\n",
    "        return \"At least one of the images does not contain any faces.\"\n",
    "\n",
    "    # Compare the first face encoding from each image\n",
    "    face_encoding1 = face_encodings1[0]\n",
    "    face_encoding2 = face_encodings2[0]\n",
    "\n",
    "    # Compare the face encodings\n",
    "    results = face_recognition.compare_faces([face_encoding1], face_encoding2)\n",
    "\n",
    "    if results[0]:\n",
    "        return \"Same\"\n",
    "    else:\n",
    "        return \"Not same\""
   ]
  },
  {
   "cell_type": "code",
   "execution_count": 49,
   "id": "020d14eb",
   "metadata": {},
   "outputs": [
    {
     "data": {
      "application/vnd.jupyter.widget-view+json": {
       "model_id": "",
       "version_major": 2,
       "version_minor": 0
      },
      "text/plain": [
       "Image(value=b'')"
      ]
     },
     "metadata": {},
     "output_type": "display_data"
    },
    {
     "name": "stdout",
     "output_type": "stream",
     "text": [
      "Same\n"
     ]
    }
   ],
   "source": [
    "capture()\n",
    "image_path1 = \"C:\\\\Users\\\\vamsh\\\\OneDrive\\\\Pictures\\\\project\\\\captured_image.jpg\"\n",
    "image_path2 = \"C:\\\\Users\\\\vamsh\\\\OneDrive\\\\Pictures\\\\project\\\\reference_image.jpg\"\n",
    "result = compare_faces(image_path1, image_path2)\n",
    "print(result)"
   ]
  },
  {
   "cell_type": "code",
   "execution_count": null,
   "id": "192a3d7b",
   "metadata": {},
   "outputs": [],
   "source": []
  }
 ],
 "metadata": {
  "kernelspec": {
   "display_name": "Python 3 (ipykernel)",
   "language": "python",
   "name": "python3"
  },
  "language_info": {
   "codemirror_mode": {
    "name": "ipython",
    "version": 3
   },
   "file_extension": ".py",
   "mimetype": "text/x-python",
   "name": "python",
   "nbconvert_exporter": "python",
   "pygments_lexer": "ipython3",
   "version": "3.11.3"
  }
 },
 "nbformat": 4,
 "nbformat_minor": 5
}
